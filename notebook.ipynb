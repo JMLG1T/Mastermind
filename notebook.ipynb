{
 "cells": [
  {
   "cell_type": "code",
   "execution_count": 43,
   "metadata": {},
   "outputs": [],
   "source": [
    "class Board:\n",
    "    \"\"\"\n",
    "    Class to track the number of colors and code lenght in a specific game+ all guesses and their corresponding feedback.\n",
    "    \"\"\"\n",
    "\n",
    "    def __init__(self, num_colors=8,code_lenght=5):\n",
    "        # Initialize an empty list to store tuples of (guess, feedback)\n",
    "        self.num_colors = num_colors\n",
    "        self.code_lenght = code_lenght\n",
    "\n",
    "    \"\"\"\n",
    "    Compares the guess with the secret code and returns the number of black pegs and white pegs. To do: adjust to use guess1, guess2 instead\n",
    "    \"\"\"\n",
    "    def distance(self, a, b) :\n",
    "        c = [0]*self.code_lenght\n",
    "        black_pegs = 0\n",
    "        white_pegs = 0\n",
    "\n",
    "        # Counting black pegs\n",
    "        for i in range(len(a)):\n",
    "            if a[i] == b[i]:\n",
    "                c[i] = 2\n",
    "                black_pegs = black_pegs + 1\n",
    "\n",
    "        # Counting white pegs\n",
    "        for i in range(len(a)):\n",
    "            for j in range(len(b)):\n",
    "                if (a[i] == b[j]) and (c[j] == 0):\n",
    "                    white_pegs = white_pegs + 1\n",
    "                    c[j] = 1\n",
    "      \n",
    "        return black_pegs, white_pegs"
   ]
  },
  {
   "cell_type": "code",
   "execution_count": 44,
   "metadata": {},
   "outputs": [],
   "source": [
    "bo = Board()"
   ]
  },
  {
   "cell_type": "code",
   "execution_count": 45,
   "metadata": {},
   "outputs": [],
   "source": [
    "a = [1,1,3,4,5]\n",
    "b = [1,2,3,4,5]"
   ]
  },
  {
   "cell_type": "code",
   "execution_count": 46,
   "metadata": {},
   "outputs": [
    {
     "data": {
      "text/plain": [
       "False"
      ]
     },
     "execution_count": 46,
     "metadata": {},
     "output_type": "execute_result"
    }
   ],
   "source": [
    "bo.distance(a,b) == bo.distance(b,a)"
   ]
  },
  {
   "cell_type": "code",
   "execution_count": 47,
   "metadata": {},
   "outputs": [
    {
     "data": {
      "text/plain": [
       "(4, 1)"
      ]
     },
     "execution_count": 47,
     "metadata": {},
     "output_type": "execute_result"
    }
   ],
   "source": [
    "bo.distance(b,a)"
   ]
  }
 ],
 "metadata": {
  "kernelspec": {
   "display_name": ".venv",
   "language": "python",
   "name": "python3"
  },
  "language_info": {
   "codemirror_mode": {
    "name": "ipython",
    "version": 3
   },
   "file_extension": ".py",
   "mimetype": "text/x-python",
   "name": "python",
   "nbconvert_exporter": "python",
   "pygments_lexer": "ipython3",
   "version": "3.13.0"
  }
 },
 "nbformat": 4,
 "nbformat_minor": 2
}
