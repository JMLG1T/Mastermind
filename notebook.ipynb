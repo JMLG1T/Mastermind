{
 "cells": [
  {
   "cell_type": "code",
   "execution_count": null,
   "metadata": {},
   "outputs": [],
   "source": [
    "import random\n",
    "import itertools\n",
    "\n",
    "class Board:\n",
    "    \"\"\"\n",
    "    Class to track all guesses and their corresponding feedback.\n",
    "    \"\"\"\n",
    "    def __init__(self):\n",
    "        # Initialize an empty list to store tuples of (guess, feedback)\n",
    "        self.history = []\n",
    "\n",
    "    def add(self, guess, feedback):\n",
    "        # Add the guess and feedback to the history\n",
    "        self.history.append((guess, feedback))\n",
    "\n",
    "    def display(self):\n",
    "        # Display the history of guesses and feedback\n",
    "        print(\"Guess history:\")\n",
    "        for idx, (guess, feedback) in enumerate(self.history):\n",
    "            guess_str = ', '.join(guess)\n",
    "            print(f\"Turn {idx+1}: Guess: [{guess_str}], Feedback (Black pegs, White pegs): {feedback}\")\n",
    "\n",
    "class Verifier:\n",
    "    \"\"\"\n",
    "    Class to compare a guess with the secret code and provide feedback.\n",
    "    \"\"\"\n",
    "    def __init__(self, secret_code):\n",
    "        # Store the secret code\n",
    "        self.secret_code = secret_code\n",
    "\n",
    "    def get_feedback(self, guess):\n",
    "        \"\"\"\n",
    "        Compares the guess with the secret code and returns the number of black pegs and white pegs.\n",
    "        \"\"\"\n",
    "        # Calculate black pegs (correct color and position)\n",
    "        black_pegs = sum(a == b for a, b in zip(guess, self.secret_code))\n",
    "\n",
    "        # Calculate white pegs (correct color, wrong position)\n",
    "        # Create copies of secret_code and guess to manipulate\n",
    "        secret_code_copy = list(self.secret_code)\n",
    "        guess_copy = list(guess)\n",
    "\n",
    "        # Remove black pegs from consideration\n",
    "        for i in range(len(guess_copy)-1, -1, -1):\n",
    "            if guess_copy[i] == secret_code_copy[i]:\n",
    "                del guess_copy[i]\n",
    "                del secret_code_copy[i]\n",
    "\n",
    "        # Count white pegs\n",
    "        white_pegs = 0\n",
    "        for color in guess_copy:\n",
    "            if color in secret_code_copy:\n",
    "                white_pegs += 1\n",
    "                secret_code_copy.remove(color)\n",
    "\n",
    "        return black_pegs, white_pegs\n",
    "\n",
    "class Player:\n",
    "    \"\"\"\n",
    "    Class to suggest the next guess based on the history and hypothesis list.\n",
    "    \"\"\"\n",
    "    def __init__(self, hypothesis_list):\n",
    "        # Initialize the hypothesis list with all possible codes\n",
    "        self.hypothesis_list = hypothesis_list\n",
    "\n",
    "    def update_hypothesis(self, last_guess, feedback):\n",
    "        \"\"\"\n",
    "        Update the hypothesis list by removing codes that are inconsistent with the feedback.\n",
    "        \"\"\"\n",
    "        new_hypothesis = []\n",
    "\n",
    "        for code in self.hypothesis_list:\n",
    "            # Simulate the feedback if 'code' was the secret code\n",
    "            simulated_verifier = Verifier(code)\n",
    "            simulated_feedback = simulated_verifier.get_feedback(last_guess)\n",
    "\n",
    "            # If the simulated feedback matches the actual feedback, keep the code\n",
    "            if simulated_feedback == feedback:\n",
    "                new_hypothesis.append(code)\n",
    "\n",
    "        # Update the hypothesis list\n",
    "        self.hypothesis_list = new_hypothesis\n",
    "\n",
    "    def suggest_next_guess(self):\n",
    "        \"\"\"\n",
    "        Suggest the next guess from the hypothesis list.\n",
    "        For simplicity, pick the first code in the list.\n",
    "        \"\"\"\n",
    "        if self.hypothesis_list:\n",
    "            return self.hypothesis_list[0]\n",
    "        else:\n",
    "            return None  # No possible guesses left"
   ]
  },
  {
   "cell_type": "code",
   "execution_count": null,
   "metadata": {},
   "outputs": [
    {
     "data": {
      "text/plain": [
       "<Board object at 0x10ecd8ad0>\n"
      ]
     },
     "metadata": {},
     "output_type": "display_data"
    }
   ],
   "source": [
    "a = Board()"
   ]
  },
  {
   "cell_type": "code",
   "execution_count": null,
   "metadata": {},
   "outputs": [
    {
     "data": {
      "text/plain": [
       "Guess history:\n"
      ]
     },
     "metadata": {},
     "output_type": "display_data"
    }
   ],
   "source": [
    "a.display()"
   ]
  },
  {
   "cell_type": "code",
   "execution_count": null,
   "metadata": {},
   "outputs": [
    {
     "data": {
      "text/plain": [
       "[]\n"
      ]
     },
     "metadata": {},
     "output_type": "display_data"
    }
   ],
   "source": []
  },
  {
   "cell_type": "code",
   "execution_count": null,
   "metadata": {},
   "outputs": [
    {
     "data": {
      "text/plain": [
       "0.6148912832836344\n"
      ]
     },
     "metadata": {},
     "output_type": "display_data"
    }
   ],
   "source": [
    "a = [random.normalvariate(0,1) for _ in range(1,6)]"
   ]
  },
  {
   "cell_type": "code",
   "execution_count": null,
   "metadata": {},
   "outputs": [],
   "source": [
    "1,6import random"
   ]
  },
  {
   "cell_type": "code",
   "execution_count": null,
   "metadata": {},
   "outputs": [
    {
     "data": {
      "text/plain": [
       "3\n"
      ]
     },
     "metadata": {},
     "output_type": "display_data"
    }
   ],
   "source": [
    "len([1,5,5])"
   ]
  },
  {
   "cell_type": "code",
   "execution_count": null,
   "metadata": {},
   "outputs": [
    {
     "ename": "IndentationError",
     "evalue": "unexpected indent (1325267.py, line 6)",
     "output_type": "error",
     "traceback": [
      "\u001b[0;36m  Cell \u001b[0;32mIn[12], line 6\u001b[0;36m\u001b[0m\n\u001b[0;31m    def __init__(self, num_colors=8,code_lenght=5):\u001b[0m\n\u001b[0m    ^\u001b[0m\n\u001b[0;31mIndentationError\u001b[0m\u001b[0;31m:\u001b[0m unexpected indent\n"
     ]
    }
   ],
   "source": [
    "class Board:\n",
    "    \"\"\"\n",
    "    Class to track the number of colors and code lenght in a specific game+ all guesses and their corresponding feedback.\n",
    "    \"\"\"\n",
    "\n",
    "    def __init__(self, num_colors=8,code_lenght=5):\n",
    "        # Initialize an empty list to store tuples of (guess, feedback)\n",
    "        self.num_colors = num_colors\n",
    "        self.code_lenght = code_length\n",
    "\n",
    "    \"\"\"\n",
    "    Compares the guess with the secret code and returns the number of black pegs and white pegs. To do: adjust to use guess1, guess2 instead\n",
    "    \"\"\"\n",
    "    def distance(self, guess_1, guess_2) :\n",
    "    \n",
    "        # Calculate black pegs (correct color and position)\n",
    "        black_pegs = sum(a == b for a, b in zip(guess_1, guess_2))\n",
    "\n",
    "        # Calculate white pegs (correct color, wrong position)\n",
    "        # Create copies of secret_code and guess to manipulate\n",
    "        guess_1_copy = list(guess_1)\n",
    "        guess_2_copy = list(guess_2)\n",
    "\n",
    "        # Remove black pegs from consideration\n",
    "        for i in range(len(guess_2_copy)-1, -1, -1):\n",
    "            if guess_copy[i] == guess_1_copy[i]:\n",
    "                del guess_2_copy[i]\n",
    "                del guess_1_copy[i]\n",
    "\n",
    "        # Count white pegs\n",
    "        white_pegs = 0\n",
    "        for color in guess_1_copy:\n",
    "            if color in guess_1_copy:\n",
    "                white_pegs += 1\n",
    "                guess_1_copy.remove(color)\n",
    "\n",
    "        return black_pegs, white_pegs"
   ]
  },
  {
   "cell_type": "code",
   "execution_count": 6,
   "metadata": {},
   "outputs": [],
   "source": [
    "b = Board()"
   ]
  },
  {
   "cell_type": "code",
   "execution_count": 7,
   "metadata": {},
   "outputs": [
    {
     "data": {
      "text/plain": [
       "<__main__.Board at 0x105209bd0>"
      ]
     },
     "execution_count": 7,
     "metadata": {},
     "output_type": "execute_result"
    }
   ],
   "source": [
    "b"
   ]
  },
  {
   "cell_type": "code",
   "execution_count": 8,
   "metadata": {},
   "outputs": [
    {
     "data": {
      "text/plain": [
       "5"
      ]
     },
     "execution_count": 8,
     "metadata": {},
     "output_type": "execute_result"
    }
   ],
   "source": [
    "b.code_lenght"
   ]
  },
  {
   "cell_type": "code",
   "execution_count": 9,
   "metadata": {},
   "outputs": [
    {
     "data": {
      "text/plain": [
       "8"
      ]
     },
     "execution_count": 9,
     "metadata": {},
     "output_type": "execute_result"
    }
   ],
   "source": [
    "b.num_colors"
   ]
  },
  {
   "cell_type": "code",
   "execution_count": null,
   "metadata": {},
   "outputs": [],
   "source": []
  }
 ],
 "metadata": {
  "kernelspec": {
   "display_name": ".venv",
   "language": "python",
   "name": "python3"
  },
  "language_info": {
   "codemirror_mode": {
    "name": "ipython",
    "version": 3
   },
   "file_extension": ".py",
   "mimetype": "text/x-python",
   "name": "python",
   "nbconvert_exporter": "python",
   "pygments_lexer": "ipython3",
   "version": "3.13.0"
  }
 },
 "nbformat": 4,
 "nbformat_minor": 2
}
